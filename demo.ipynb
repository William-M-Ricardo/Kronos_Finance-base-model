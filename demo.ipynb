{
 "cells": [
  {
   "cell_type": "markdown",
   "id": "e8557be0",
   "metadata": {},
   "source": [
    "加载分词器和模型，全部在Hugging Face Hub下载"
   ]
  },
  {
   "cell_type": "code",
   "execution_count": 2,
   "id": "675516df",
   "metadata": {},
   "outputs": [],
   "source": [
    "import os\n",
    "from model import Kronos, KronosTokenizer, KronosPredictor\n",
    "# Load from Hugging Face Hub\n",
    "tokenizer = KronosTokenizer.from_pretrained(\"NeoQuasar/Kronos-Tokenizer-base\")\n",
    "model = Kronos.from_pretrained(\"NeoQuasar/Kronos-base\")"
   ]
  },
  {
   "cell_type": "markdown",
   "id": "520baf96",
   "metadata": {},
   "source": [
    "实例化预测器"
   ]
  },
  {
   "cell_type": "code",
   "execution_count": 3,
   "id": "b373fafa",
   "metadata": {},
   "outputs": [],
   "source": [
    "# Initialize the predictor\n",
    "predictor = KronosPredictor(model, tokenizer, device=\"cuda:0\", max_context=512)"
   ]
  },
  {
   "cell_type": "markdown",
   "id": "8617746d",
   "metadata": {},
   "source": [
    "单一资产序列预测"
   ]
  },
  {
   "cell_type": "code",
   "execution_count": 4,
   "id": "45bad986",
   "metadata": {},
   "outputs": [
    {
     "name": "stderr",
     "output_type": "stream",
     "text": [
      "100%|██████████| 120/120 [00:04<00:00, 24.63it/s]"
     ]
    },
    {
     "name": "stdout",
     "output_type": "stream",
     "text": [
      "Forecasted Data Head:\n",
      "                          open       high        low      close      volume  \\\n",
      "timestamps                                                                    \n",
      "2024-06-28 14:05:00  10.822159  10.834056  10.811458  10.820602  523.151489   \n",
      "2024-06-28 14:10:00  10.821757  10.831979  10.808309  10.816621  909.177246   \n",
      "2024-06-28 14:15:00  10.819422  10.841615  10.815961  10.835768  584.458801   \n",
      "2024-06-28 14:20:00  10.830839  10.838158  10.814431  10.819909  693.161621   \n",
      "2024-06-28 14:25:00  10.815665  10.823578  10.783878  10.790836  766.734985   \n",
      "\n",
      "                          amount  \n",
      "timestamps                        \n",
      "2024-06-28 14:05:00  563868.0625  \n",
      "2024-06-28 14:10:00  975899.6875  \n",
      "2024-06-28 14:15:00  628887.4375  \n",
      "2024-06-28 14:20:00  746929.3750  \n",
      "2024-06-28 14:25:00  837830.0000  \n"
     ]
    },
    {
     "name": "stderr",
     "output_type": "stream",
     "text": [
      "\n"
     ]
    }
   ],
   "source": [
    "import pandas as pd\n",
    "\n",
    "# Load your data\n",
    "df = pd.read_csv(\"./data/XSHG_5min_600977.csv\")\n",
    "df['timestamps'] = pd.to_datetime(df['timestamps'])\n",
    "\n",
    "# Define context window and prediction length\n",
    "lookback = 400\n",
    "pred_len = 120\n",
    "\n",
    "# Prepare inputs for the predictor\n",
    "x_df = df.loc[:lookback-1, ['open', 'high', 'low', 'close', 'volume', 'amount']]\n",
    "x_timestamp = df.loc[:lookback-1, 'timestamps']\n",
    "y_timestamp = df.loc[lookback:lookback+pred_len-1, 'timestamps']\n",
    "\n",
    "# Generate predictions\n",
    "pred_df = predictor.predict(\n",
    "    df=x_df,\n",
    "    x_timestamp=x_timestamp,\n",
    "    y_timestamp=y_timestamp,\n",
    "    pred_len=pred_len,\n",
    "    T=1.0,          # Temperature for sampling\n",
    "    top_p=0.9,      # Nucleus sampling probability\n",
    "    sample_count=1  # Number of forecast paths to generate and average\n",
    ")\n",
    "\n",
    "print(\"Forecasted Data Head:\")\n",
    "print(pred_df.head())"
   ]
  },
  {
   "cell_type": "markdown",
   "id": "24e57898",
   "metadata": {},
   "source": [
    "多资产序列预测"
   ]
  },
  {
   "cell_type": "code",
   "execution_count": 5,
   "id": "cd160e47",
   "metadata": {},
   "outputs": [
    {
     "ename": "NameError",
     "evalue": "name 'df1' is not defined",
     "output_type": "error",
     "traceback": [
      "\u001b[31m---------------------------------------------------------------------------\u001b[39m",
      "\u001b[31mNameError\u001b[39m                                 Traceback (most recent call last)",
      "\u001b[36mCell\u001b[39m\u001b[36m \u001b[39m\u001b[32mIn[5]\u001b[39m\u001b[32m, line 2\u001b[39m\n\u001b[32m      1\u001b[39m \u001b[38;5;66;03m# Prepare multiple datasets for batch prediction\u001b[39;00m\n\u001b[32m----> \u001b[39m\u001b[32m2\u001b[39m df_list = [\u001b[43mdf1\u001b[49m, df2, df3]  \u001b[38;5;66;03m# List of DataFrames\u001b[39;00m\n\u001b[32m      3\u001b[39m x_timestamp_list = [x_ts1, x_ts2, x_ts3]  \u001b[38;5;66;03m# List of historical timestamps\u001b[39;00m\n\u001b[32m      4\u001b[39m y_timestamp_list = [y_ts1, y_ts2, y_ts3]  \u001b[38;5;66;03m# List of future timestamps\u001b[39;00m\n",
      "\u001b[31mNameError\u001b[39m: name 'df1' is not defined"
     ]
    }
   ],
   "source": [
    "# Prepare multiple datasets for batch prediction\n",
    "df_list = [df1, df2, df3]  # List of DataFrames\n",
    "x_timestamp_list = [x_ts1, x_ts2, x_ts3]  # List of historical timestamps\n",
    "y_timestamp_list = [y_ts1, y_ts2, y_ts3]  # List of future timestamps\n",
    "\n",
    "# Generate batch predictions\n",
    "pred_df_list = predictor.predict_batch(\n",
    "    df_list=df_list,\n",
    "    x_timestamp_list=x_timestamp_list,\n",
    "    y_timestamp_list=y_timestamp_list,\n",
    "    pred_len=pred_len,\n",
    "    T=1.0,\n",
    "    top_p=0.9,\n",
    "    sample_count=1,\n",
    "    verbose=True\n",
    ")\n",
    "\n",
    "# pred_df_list contains prediction results in the same order as input\n",
    "for i, pred_df in enumerate(pred_df_list):\n",
    "    print(f\"Predictions for series {i}:\")\n",
    "    print(pred_df.head())"
   ]
  }
 ],
 "metadata": {
  "kernelspec": {
   "display_name": "epfl",
   "language": "python",
   "name": "python3"
  },
  "language_info": {
   "codemirror_mode": {
    "name": "ipython",
    "version": 3
   },
   "file_extension": ".py",
   "mimetype": "text/x-python",
   "name": "python",
   "nbconvert_exporter": "python",
   "pygments_lexer": "ipython3",
   "version": "3.12.0"
  }
 },
 "nbformat": 4,
 "nbformat_minor": 5
}
